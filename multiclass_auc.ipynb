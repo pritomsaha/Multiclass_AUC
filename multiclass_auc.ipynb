{
 "cells": [
  {
   "cell_type": "code",
   "execution_count": 4,
   "metadata": {},
   "outputs": [],
   "source": [
    "import numpy as np\n",
    "import itertools\n",
    "\"\"\"\n",
    "    MAUCpy\n",
    "    ~~~~~~\n",
    "    Contains two equations from Hand and Till's 2001 paper on a multi-class\n",
    "    approach to the AUC. The a_value() function is the probabilistic approximation\n",
    "    of the AUC found in equation 3, while MAUC() is the pairwise averaging of this\n",
    "    value for each of the classes. This is equation 7 in their paper.\n",
    "\"\"\"\n",
    "\n",
    "\n",
    "def a_value(y_true, y_pred_prob, zero_label=0, one_label=1):\n",
    "    \"\"\"\n",
    "    Approximates the AUC by the method described in Hand and Till 2001,\n",
    "    equation 3.\n",
    "    \n",
    "    NB: The class labels should be in the set [0,n-1] where n = # of classes.\n",
    "    The class probability should be at the index of its label in the predicted\n",
    "    probability list.\n",
    "    \n",
    "    Args:\n",
    "        y_true: actual labels of test data \n",
    "        y_pred_prob: predicted class probability\n",
    "        zero_label: label for positive class\n",
    "        one_label: label for negative class\n",
    "    Returns:\n",
    "        The A-value as a floating point.\n",
    "    \"\"\"\n",
    "    \n",
    "    idx = np.isin(y_true, [zero_label, one_label])\n",
    "    labels = y_true[idx]\n",
    "    prob = y_pred_prob[idx, zero_label]\n",
    "    sorted_ranks = labels[np.argsort(prob)]\n",
    "    \n",
    "    n0, n1, sum_ranks = 0, 0, 0\n",
    "    n0 = np.count_nonzero(sorted_ranks==zero_label)\n",
    "    n1 = np.count_nonzero(sorted_ranks==one_label)\n",
    "    sum_ranks = np.sum(np.where(sorted_ranks==zero_label)) + n0\n",
    "\n",
    "    return (sum_ranks - (n0*(n0+1)/2.0)) / float(n0 * n1)  # Eqn 3\n",
    "\n",
    "\n",
    "def MAUC(y_true, y_pred_prob, num_classes):\n",
    "    \"\"\"\n",
    "    Calculates the MAUC over a set of multi-class probabilities and\n",
    "    their labels. This is equation 7 in Hand and Till's 2001 paper.\n",
    "    \n",
    "    NB: The class labels should be in the set [0,n-1] where n = # of classes.\n",
    "    The class probability should be at the index of its label in the\n",
    "    probability list.\n",
    "    \n",
    "    Args:\n",
    "        y_true: actual labels of test data \n",
    "        y_pred_prob: predicted class probability\n",
    "        zero_label: label for positive class\n",
    "        one_label: label for negative class\n",
    "        num_classes (int): The number of classes in the dataset.\n",
    "    \n",
    "    Returns:\n",
    "        The MAUC as a floating point value.\n",
    "    \"\"\"\n",
    "    # Find all pairwise comparisons of labels\n",
    "    class_pairs = [x for x in itertools.combinations(range(num_classes), 2)]\n",
    "\n",
    "    # Have to take average of A value with both classes acting as label 0 as this\n",
    "    # gives different outputs for more than 2 classes\n",
    "    sum_avals = 0\n",
    "    for pairing in class_pairs:\n",
    "        sum_avals += (a_value(y_true, y_pred_prob, zero_label=pairing[0], one_label=pairing[1]) +\n",
    "                      a_value(y_true, y_pred_prob, zero_label=pairing[1], one_label=pairing[0])) / 2.0\n",
    "\n",
    "    return sum_avals * (2 / float(num_classes * (num_classes-1)))  # Eqn 7"
   ]
  },
  {
   "cell_type": "code",
   "execution_count": 5,
   "metadata": {},
   "outputs": [
    {
     "name": "stdout",
     "output_type": "stream",
     "text": [
      "0.625\n"
     ]
    }
   ],
   "source": [
    "num_classes = 3\n",
    "y_true = np.array([0,1,1,0,2,2])\n",
    "y_pred_prob = np.array([[0.5, 0.1, 0.4], [0.5, 0.3, 0.2], [0.1, 0.8, 0.1], [0, 0.4, 0.6], [0.3, 0.2, 0.5], [0.5, 0.1, 0.4]])\n",
    "\n",
    "mauc = MAUC(y_true, y_pred_prob, num_classes)\n",
    "print(mauc)"
   ]
  },
  {
   "cell_type": "code",
   "execution_count": null,
   "metadata": {},
   "outputs": [],
   "source": []
  }
 ],
 "metadata": {
  "kernelspec": {
   "display_name": "Python 3",
   "language": "python",
   "name": "python3"
  },
  "language_info": {
   "codemirror_mode": {
    "name": "ipython",
    "version": 3
   },
   "file_extension": ".py",
   "mimetype": "text/x-python",
   "name": "python",
   "nbconvert_exporter": "python",
   "pygments_lexer": "ipython3",
   "version": "3.5.2"
  }
 },
 "nbformat": 4,
 "nbformat_minor": 2
}
